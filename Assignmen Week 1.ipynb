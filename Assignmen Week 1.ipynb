{
 "cells": [
  {
   "cell_type": "code",
   "execution_count": null,
   "id": "37ed697b-d5c2-4405-8ed9-727a48bf0a20",
   "metadata": {},
   "outputs": [],
   "source": [
    "# Mohammad Abdul Maajid Bhat"
   ]
  },
  {
   "cell_type": "markdown",
   "id": "2717f8ba-b481-4ed2-800a-7416e5aa3a7e",
   "metadata": {},
   "source": [
    "Q1. Create one variable containing following type of data:\n",
    "(i) string\n",
    "(ii) list\n",
    "(iii) float\n",
    "(iv) tuple"
   ]
  },
  {
   "cell_type": "code",
   "execution_count": 2,
   "id": "6dd509ca-93e9-410d-a046-9494fddb6068",
   "metadata": {},
   "outputs": [],
   "source": [
    "#Sol1\n",
    "w = 'Maajid'\n",
    "x = [4,5, 's', [1,2,3]]\n",
    "y = 25.6\n",
    "z = (1,3,2,1)"
   ]
  },
  {
   "cell_type": "markdown",
   "id": "8b0a06c9-3867-4235-b3a7-c92e747a4c4d",
   "metadata": {},
   "source": [
    "Q2. Given are some following variables containing data:\n",
    "(i) var1 = ‘ ‘\n",
    "(ii) var2 = ‘[ DS , ML , Python]’\n",
    "(iii) var3 = [ ‘DS’ , ’ML’ , ‘Python’ ]\n",
    "(iv) var4 = 1.\n",
    "What will be the data type of the above given variable."
   ]
  },
  {
   "cell_type": "code",
   "execution_count": 10,
   "id": "7a5908fd-9803-46a0-9d3e-d7b58d6c78c7",
   "metadata": {},
   "outputs": [],
   "source": [
    "#Sol2\n",
    "var1 = ' '\n",
    "var2 = '[ DS , ML , Python]'\n",
    "var3 = [ 'DS' , 'ML' , 'Python' ]\n",
    "var4 = 1."
   ]
  },
  {
   "cell_type": "code",
   "execution_count": 11,
   "id": "e34c29fd-851c-4153-955f-78918f375897",
   "metadata": {},
   "outputs": [
    {
     "name": "stdout",
     "output_type": "stream",
     "text": [
      "<class 'str'>\n",
      "<class 'str'>\n",
      "<class 'list'>\n",
      "<class 'float'>\n"
     ]
    }
   ],
   "source": [
    "print(type(var1))\n",
    "print(type(var2))\n",
    "print(type(var3))\n",
    "print(type(var4))"
   ]
  },
  {
   "cell_type": "markdown",
   "id": "7ace95fc-8759-4f83-b6a1-9f9f69538878",
   "metadata": {},
   "source": [
    "Q3. Explain the use of the following operators using an example:\n",
    "(i) /\n",
    "(ii) %\n",
    "(iii) //\n",
    "(iv) **"
   ]
  },
  {
   "cell_type": "markdown",
   "id": "9a52d1fc-c167-44c2-a80f-735f82dd9d23",
   "metadata": {},
   "source": [
    "Sol3\n",
    "i) /\n",
    "This is used as a symbol to divide 2 numbers. e.g 4/2 =2.0\n",
    "ii) % \n",
    "This is used as a symbol for modulus. e.g 8%3 = 2\n",
    "iii) //\n",
    "This is used as a symbol for floor division e.g 10//3 =3\n",
    "iv) **\n",
    "This is used as a symbol for exponential e.g 2**4 = 16\n"
   ]
  },
  {
   "cell_type": "markdown",
   "id": "f7f44ba3-b02e-4cae-8ea5-bab8306c4190",
   "metadata": {},
   "source": [
    "Q4. Create a list of length 10 of your choice containing multiple types of data. Using for loop print the\n",
    "element and its data type."
   ]
  },
  {
   "cell_type": "code",
   "execution_count": 21,
   "id": "8975a971-70e9-450e-bc1e-d1c91d753c97",
   "metadata": {},
   "outputs": [
    {
     "name": "stdout",
     "output_type": "stream",
     "text": [
      "1\n",
      "2\n",
      "Maajid\n",
      "2.6\n",
      "[1, 2, 3, 4]\n",
      "Srinagar\n",
      "True\n",
      "(5+3j)\n",
      "(7, 8, 9)\n",
      "14\n"
     ]
    }
   ],
   "source": [
    "#Sol4\n",
    "list1 = [1, 2, 'Maajid', 2.6 ,[1,2,3,4], 'Srinagar', True, 5 + 3j, (7,8,9), 14]\n",
    "for i in list1:\n",
    "    print(i)"
   ]
  },
  {
   "cell_type": "markdown",
   "id": "bac35299-b08a-49db-92c6-66b21a36ce7b",
   "metadata": {},
   "source": [
    "Q5. Using a while loop, verify if the number A is purely divisible by number B and if so then how many\n",
    "times it can be divisible."
   ]
  },
  {
   "cell_type": "code",
   "execution_count": 3,
   "id": "55989329-ace2-4c36-9171-16996f89756f",
   "metadata": {},
   "outputs": [
    {
     "name": "stdin",
     "output_type": "stream",
     "text": [
      "Enter the number A:  48\n",
      "Enter the number B:  2\n"
     ]
    },
    {
     "name": "stdout",
     "output_type": "stream",
     "text": [
      "48 is divisible by 2.\n",
      "3 can be divided 4 times by 2.\n"
     ]
    }
   ],
   "source": [
    "#Sol5\n",
    "A = int(input(\"Enter the number A: \"))\n",
    "B = int(input(\"Enter the number B: \"))\n",
    "\n",
    "if A % B == 0:\n",
    "    print(f\"{A} is divisible by {B}.\")\n",
    "else:\n",
    "    print(f\"{A} is not divisible by {B}.\")\n",
    "\n",
    "# Initializing a count variable to keep track of the number of divisions\n",
    "count = 0\n",
    "\n",
    "# Use a while loop to perform the division until it is not possible anymore\n",
    "while A % B == 0:\n",
    "    A = A // B  # Perform the division\n",
    "    count += 1  # Increment the count\n",
    "\n",
    "# Print the result\n",
    "print(f\"{A} can be divided {count} times by {B}.\")"
   ]
  },
  {
   "cell_type": "markdown",
   "id": "d06028fb-f3c9-4d38-a7e2-a88eb07707c3",
   "metadata": {},
   "source": [
    "Q6. Create a list containing 25 int type data. Using for loop and if-else condition print if the element is\n",
    "divisible by 3 or not."
   ]
  },
  {
   "cell_type": "code",
   "execution_count": 1,
   "id": "4badc3bc-98a6-425e-b24a-404186a3fb56",
   "metadata": {},
   "outputs": [
    {
     "name": "stdout",
     "output_type": "stream",
     "text": [
      " element is divisible by 3\n",
      " element is divisible by 3\n",
      " element is divisible by 3\n",
      " element is divisible by 3\n",
      " element is divisible by 3\n",
      " element is divisible by 3\n",
      " element is divisible by 3\n",
      " element is not divisible by 3\n",
      " element is divisible by 3\n",
      " element is divisible by 3\n",
      " element is divisible by 3\n",
      " element is divisible by 3\n",
      " element is divisible by 3\n",
      " element is divisible by 3\n",
      " element is divisible by 3\n",
      " element is not divisible by 3\n",
      " element is not divisible by 3\n",
      " element is not divisible by 3\n",
      " element is not divisible by 3\n",
      " element is not divisible by 3\n",
      " element is not divisible by 3\n",
      " element is not divisible by 3\n",
      " element is not divisible by 3\n",
      " element is not divisible by 3\n",
      " element is not divisible by 3\n"
     ]
    }
   ],
   "source": [
    "#Sol6\n",
    "list2 = [3,6,9,12,15,18,21,25,27,30,33,36,39,42,45,7,4,8,11,13,17,19,22,26,28]\n",
    "\n",
    "for i in list2:\n",
    "    if i%3==0:\n",
    "        print(\" element is divisible by 3\")\n",
    "    else:\n",
    "        print(\" element is not divisible by 3\")"
   ]
  },
  {
   "cell_type": "markdown",
   "id": "3ef9ba7e-1531-4785-a624-aedf8800f6bc",
   "metadata": {},
   "source": [
    "Q7. What do you understand about mutable and immutable data types? Give examples for both showing\n",
    "this property."
   ]
  },
  {
   "cell_type": "markdown",
   "id": "12715514-0b62-4463-ae47-1ab0b4631432",
   "metadata": {},
   "source": [
    "Sol 7:\n",
    "If we are able to replace elements then it is called mutable. If we cannot replace elements itis called immutable.\n",
    "e.g Elements of Lists are mutable, because we can index elements of it, by this we can replace its elements. While on the other hand strings are immutable beacuse we cannot index them, thus can't replace it. We can replace but the whole string not it's elements."
   ]
  },
  {
   "cell_type": "code",
   "execution_count": 2,
   "id": "ed8a7c32-629d-45bd-b039-1c6f618b6978",
   "metadata": {},
   "outputs": [
    {
     "name": "stdout",
     "output_type": "stream",
     "text": [
      "[2, 56, 5, (3+4j), 'Maajid']\n"
     ]
    }
   ],
   "source": [
    "#Example of mutable\n",
    "list3 = [2,3,5,3+4j, 'Maajid']\n",
    "\n",
    "list3[1] = 56\n",
    "print(list3)"
   ]
  },
  {
   "cell_type": "code",
   "execution_count": 3,
   "id": "80c117e1-1172-494a-832f-eb0cadbf1607",
   "metadata": {},
   "outputs": [
    {
     "ename": "NameError",
     "evalue": "name 'list4' is not defined",
     "output_type": "error",
     "traceback": [
      "\u001b[0;31m---------------------------------------------------------------------------\u001b[0m",
      "\u001b[0;31mNameError\u001b[0m                                 Traceback (most recent call last)",
      "Cell \u001b[0;32mIn[3], line 4\u001b[0m\n\u001b[1;32m      1\u001b[0m \u001b[38;5;66;03m##Example of immutable\u001b[39;00m\n\u001b[1;32m      3\u001b[0m list3[\u001b[38;5;241m4\u001b[39m] \u001b[38;5;241m=\u001b[39m \u001b[38;5;124m'\u001b[39m\u001b[38;5;124mBhat\u001b[39m\u001b[38;5;124m'\u001b[39m\n\u001b[0;32m----> 4\u001b[0m \u001b[38;5;28mprint\u001b[39m(\u001b[43mlist4\u001b[49m)\n",
      "\u001b[0;31mNameError\u001b[0m: name 'list4' is not defined"
     ]
    }
   ],
   "source": [
    "##Example of immutable\n",
    "\n",
    "list3[4] = 'Bhat'\n",
    "print(list4)\n"
   ]
  },
  {
   "cell_type": "code",
   "execution_count": null,
   "id": "ea810361-e0a0-4782-9312-8ae017e2f6ae",
   "metadata": {},
   "outputs": [],
   "source": []
  }
 ],
 "metadata": {
  "kernelspec": {
   "display_name": "Python 3 (ipykernel)",
   "language": "python",
   "name": "python3"
  },
  "language_info": {
   "codemirror_mode": {
    "name": "ipython",
    "version": 3
   },
   "file_extension": ".py",
   "mimetype": "text/x-python",
   "name": "python",
   "nbconvert_exporter": "python",
   "pygments_lexer": "ipython3",
   "version": "3.10.8"
  }
 },
 "nbformat": 4,
 "nbformat_minor": 5
}
